{
  "nbformat": 4,
  "nbformat_minor": 0,
  "metadata": {
    "colab": {
      "provenance": [],
      "toc_visible": true
    },
    "kernelspec": {
      "name": "python3",
      "display_name": "Python 3"
    },
    "language_info": {
      "name": "python"
    }
  },
  "cells": [
    {
      "cell_type": "code",
      "execution_count": 13,
      "metadata": {
        "colab": {
          "base_uri": "https://localhost:8080/"
        },
        "id": "ty12YCOLqXGf",
        "outputId": "ea2b5f54-ca69-4ed0-f0a8-eb13fb7860e1"
      },
      "outputs": [
        {
          "output_type": "stream",
          "name": "stdout",
          "text": [
            "Current working directory: /content\n",
            "Columns in dataset: Index(['PassengerId', 'Survived', 'Pclass', 'Name', 'Sex', 'Age', 'SibSp',\n",
            "       'Parch', 'Ticket', 'Fare', 'Cabin', 'Embarked'],\n",
            "      dtype='object')\n",
            "✅ F1 Score: 0.7638888888888888\n"
          ]
        }
      ],
      "source": [
        "import pandas as pd\n",
        "from sklearn.model_selection import train_test_split\n",
        "from sklearn.linear_model import LogisticRegression\n",
        "from sklearn.preprocessing import LabelEncoder\n",
        "from sklearn.metrics import f1_score\n",
        "import os\n",
        "\n",
        "# Check current working directory\n",
        "print(\"Current working directory:\", os.getcwd())\n",
        "\n",
        "# ✅ Load the CORRECT dataset\n",
        "df = pd.read_csv(\"/content/train.csv\")  # Make sure train.csv exists in this path\n",
        "\n",
        "# Optional: See column names\n",
        "print(\"Columns in dataset:\", df.columns)\n",
        "\n",
        "# ✅ Drop columns that are not useful\n",
        "df = df.drop(columns=[\"PassengerId\", \"Name\", \"Ticket\", \"Cabin\"])\n",
        "\n",
        "# ✅ Handle missing values\n",
        "df[\"Age\"] = df[\"Age\"].fillna(df[\"Age\"].median())\n",
        "df[\"Embarked\"] = df[\"Embarked\"].fillna(df[\"Embarked\"].mode()[0])\n",
        "\n",
        "# ✅ Encode categorical columns\n",
        "le = LabelEncoder()\n",
        "df[\"Sex\"] = le.fit_transform(df[\"Sex\"])\n",
        "df[\"Embarked\"] = le.fit_transform(df[\"Embarked\"])\n",
        "\n",
        "# ✅ Split features and label\n",
        "X = df.drop(\"Survived\", axis=1)\n",
        "y = df[\"Survived\"]\n",
        "\n",
        "# ✅ Train-test split\n",
        "X_train, X_test, y_train, y_test = train_test_split(X, y, test_size=0.2, random_state=42)\n",
        "\n",
        "# ✅ Train model\n",
        "model = LogisticRegression(max_iter=1000)\n",
        "model.fit(X_train, y_train)\n",
        "\n",
        "# ✅ Make predictions and evaluate\n",
        "y_pred = model.predict(X_test)\n",
        "f1 = f1_score(y_test, y_pred)\n",
        "print(\"✅ F1 Score:\", f1)\n",
        "\n",
        "\n"
      ]
    },
    {
      "cell_type": "markdown",
      "source": [
        "# New Section"
      ],
      "metadata": {
        "id": "0gmlpYUazQI4"
      }
    },
    {
      "cell_type": "code",
      "source": [],
      "metadata": {
        "id": "oem7BEP1xBGI"
      },
      "execution_count": 5,
      "outputs": []
    },
    {
      "cell_type": "markdown",
      "source": [
        "pip install kaggle\n"
      ],
      "metadata": {
        "id": "dwmeBxEixBdg"
      }
    }
  ]
}