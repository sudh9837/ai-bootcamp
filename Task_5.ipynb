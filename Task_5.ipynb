{
  "nbformat": 4,
  "nbformat_minor": 0,
  "metadata": {
    "colab": {
      "provenance": []
    },
    "kernelspec": {
      "name": "python3",
      "display_name": "Python 3"
    },
    "language_info": {
      "name": "python"
    }
  },
  "cells": [
    {
      "cell_type": "code",
      "execution_count": 2,
      "metadata": {
        "colab": {
          "base_uri": "https://localhost:8080/"
        },
        "id": "yns28GDFUCFx",
        "outputId": "30f4c49d-afbd-4d41-b850-9a0dac826915"
      },
      "outputs": [
        {
          "output_type": "stream",
          "name": "stdout",
          "text": [
            "Mean Squared Error: 0.56\n"
          ]
        }
      ],
      "source": [
        "# Import necessary libraries\n",
        "import pandas as pd\n",
        "# Changed from load_boston to fetch_california_housing\n",
        "from sklearn.datasets import fetch_california_housing\n",
        "from sklearn.model_selection import train_test_split\n",
        "from sklearn.linear_model import LinearRegression\n",
        "from sklearn.metrics import mean_squared_error\n",
        "\n",
        "# Load the California housing dataset (Changed from Boston housing dataset)\n",
        "# Use as_frame=True to get a pandas DataFrame for data and a pandas Series for target\n",
        "california_housing = fetch_california_housing(as_frame=True)\n",
        "X = california_housing.data  # Features are in the .data attribute\n",
        "y = california_housing.target # Target is in the .target attribute\n",
        "\n",
        "# The California dataset already provides X and y as DataFrames/Series, so we don't need to create the df like before\n",
        "# df = pd.DataFrame(boston.data, columns=boston.feature_names)\n",
        "# df['PRICE'] = boston.target\n",
        "\n",
        "# Split into training and testing data\n",
        "X_train, X_test, y_train, y_test = train_test_split(X, y, test_size=0.2, random_state=42)\n",
        "\n",
        "# Create and train the linear regression model\n",
        "model = LinearRegression()\n",
        "model.fit(X_train, y_train)\n",
        "\n",
        "# Make predictions on the test data\n",
        "y_pred = model.predict(X_test)\n",
        "\n",
        "# Calculate Mean Squared Error\n",
        "mse = mean_squared_error(y_test, y_pred)\n",
        "print(f\"Mean Squared Error: {mse:.2f}\")"
      ]
    }
  ]
}